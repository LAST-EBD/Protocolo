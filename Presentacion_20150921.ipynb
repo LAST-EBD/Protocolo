{
 "cells": [
  {
   "cell_type": "markdown",
   "metadata": {
    "slideshow": {
     "slide_type": "notes"
    }
   },
   "source": [
    "<img src=\"logo.png\" style=\"width: 50%\">"
   ]
  },
  {
   "cell_type": "markdown",
   "metadata": {},
   "source": [
    "<font color='blue', size=5.5>Ipython Notebook para mostrar como ejecutar el protocolo de tratamiento de imágenes Landsat del Laboratorio de SIG y Teledetección de la Estación Biológica de Doñana </font>\n",
    "\n",
    "\n",
    "#### Todo el protocolo está incluido dentro de una clase (Protocolo) , la cual incluye como métodos (funciones de la clase) los distintos pasos que se han seguido tradicionalmente (Importación, Reproyección, Corrección Radiometrica y Normalización).\n",
    "\n",
    "#### Para ejecutar el protocolo se usan distintas librerías de python (fundamentalmente <font color='red'>GDAL</font> y <font color='red'>Rasterio</font>) y el software <font color='red'>Miramon</font> (importación y Corrección Radiométrica). Esté último software se llama mediante la generación y ejecución de archivos de texto en formato .bat\n",
    "\n",
    "#### Lo primero que debemos hacer para poder ejecutar el protocolo es importarlo, para ello lo único que tenemos que hacer es llamar a la clase incluida en el archivo python. Esto lo hacemos del siguiente modo:\n"
   ]
  },
  {
   "cell_type": "code",
   "execution_count": 1,
   "metadata": {
    "collapsed": false
   },
   "outputs": [],
   "source": [
    "from Protocolo_V25 import Protocolo"
   ]
  },
  {
   "cell_type": "markdown",
   "metadata": {},
   "source": [
    "#### Ahora ya tenemos disponible la clase y todos sus métodos. En principio para ejecutarla debemos instanciarla indicándole la ruta en la que está la imagen (o imágenes) a procesar. Un criterio a prori necesario es que se cree la estructura de carpetas /ori, /geo, /rad, /nor debiendo estar nuestra imagen a procesar en la carpeta ori. Si las carpetas no estuvieran creadas se pueden crear automáticamente, pero si es necesario que la imagen esté en una carpeta llamada ori\n"
   ]
  },
  {
   "cell_type": "markdown",
   "metadata": {},
   "source": [
    "#### Antes de instanciar la clase hay que comprobar que el servidor de la Base de Datos esá activado,  activarlo si no lo estuviera. Esto lo hacemos abriendo un cmd de windows y escribiendo <font color='red'>\"mongod\"</font>"
   ]
  },
  {
   "cell_type": "code",
   "execution_count": 2,
   "metadata": {
    "collapsed": false
   },
   "outputs": [
    {
     "name": "stdout",
     "output_type": "stream",
     "text": [
      "El porcentaje de nubes en la escena es de 0.1\n"
     ]
    }
   ],
   "source": [
    "myProtocolo = Protocolo(r'C:\\Users\\Diego\\Desktop\\Presentacion\\protocolo\\ori\\20140812l8oli202_34')"
   ]
  },
  {
   "cell_type": "markdown",
   "metadata": {},
   "source": [
    "#### Con esta línea ya tenemos nuestro protocolo iniciado. Con esto ya tenemos diponibles todos los métodos a los que podemos llamar con nuestra clase. Los principales obviamente son Importación, Reproyección, Corrad y Normalización, pero estos se componen de varios métodos, a los que si quisieramos podríamos llamar de forma independiente. Para ver los métodos disponibles desde un Notebook tenemos que poner el nombre que le hayamos dado a la instancia (myProtocolo en este caso) seguido de un punto y darle al tabulador.  \n",
    "#### Otro aspecto importante que se crea al instanciar la clase es el registro de la escena en la Base de Datos . En concreto se almacena el id, la fecha en la que se instancia la clase y la cantidad de nubes que hay tanto en la escena (sacado del MTL.txt provisto con la escena) como sobre Doñana (Parque Nacional). Este valor lo sacamos nosotros cruzando la máscara de nubes con el shapefile del Parque Nacional"
   ]
  },
  {
   "cell_type": "markdown",
   "metadata": {},
   "source": [
    "#### Es importante señalar que si se quisiera ejecutar el protocolo sobre todas las escenas en un directorio sería fácilmente ejecutable del siguiente modo (en principio esto estará implementado en la opción de visualización/ejecución que se decida):"
   ]
  },
  {
   "cell_type": "code",
   "execution_count": null,
   "metadata": {
    "collapsed": true
   },
   "outputs": [],
   "source": [
    "#Con estas 3 líneas se ejecutaría todo el protocolo a todas las escenas en un directorio\n",
    "\n",
    "for i in os.listdir(path/to/folder/containig/severals/scenes):\n",
    "    \n",
    "    myProtocolo = os.path.join(path, i)\n",
    "    myProtocolo.run_all()"
   ]
  },
  {
   "cell_type": "markdown",
   "metadata": {},
   "source": [
    "#### El primer paso que haremos será la importación. Este paso se divide en varios, lo primero que hará será generar la máscara de nubes y calcular el porcentaje de cobertura sobre el Parque Nacional de Doñana. Luego hará la importación de los Getiff originales a través de un bat de Miramon. En la importación también calcula el kl (valor mínimo) dentro de unos polígonos definidos (embalses y sombras de sierras), escribiendo un archivo de texto kl.rad, que será usado en la Corección Radiométrica"
   ]
  },
  {
   "cell_type": "code",
   "execution_count": 3,
   "metadata": {
    "collapsed": false
   },
   "outputs": [
    {
     "name": "stdout",
     "output_type": "stream",
     "text": [
      "comenzando Fmask\n",
      "Mascara de nubes generada en -60.5929999352 segundos\n",
      "El porcentaje de nubes en el Parque Nacional es de 0.0\n",
      "['C:\\\\MiraMon\\\\TIFIMG', '9', 'C:\\\\Users\\\\Diego\\\\Desktop\\\\Presentacion\\\\protocolo\\\\ori\\\\20140812l8oli202_34\\\\LC82020342014224LGN00_B1.TIF', 'C:\\\\Users\\\\Diego\\\\Desktop\\\\Presentacion\\\\protocolo\\\\ori\\\\20140812l8oli202_34\\\\miramon_import', '1', '0', '/MD=C:\\\\Users\\\\Diego\\\\Desktop\\\\Presentacion\\\\protocolo\\\\ori\\\\20140812l8oli202_34\\\\LC82020342014224LGN00_MTL.txt', '/DT=c:\\\\MiraMon']\n",
      "Escena importada con exito en 26.2680001259 segundos\n",
      "modificados los metadatos del rad\n",
      "Mascara de nubes, importacion y obtencion de kls concluido en  114.860000134 segundos\n"
     ]
    }
   ],
   "source": [
    "myProtocolo.importacion()"
   ]
  },
  {
   "cell_type": "markdown",
   "metadata": {},
   "source": [
    "#### En segundo lugar realizaremos la reproyección, este es el paso que más tiempo conlleva, más o menos 1 minuto por cada banda. Junto con la reproyección copia y modifica los .dco y el rel, para que tenga los valores adecuados. La máscara de nubes la reproyecta y la guarda directamente en la carpeta de la escena en nor"
   ]
  },
  {
   "cell_type": "code",
   "execution_count": 4,
   "metadata": {
    "collapsed": false
   },
   "outputs": [
    {
     "name": "stdout",
     "output_type": "stream",
     "text": [
      "Reproyectando LC82020342014224LGN00_B1.TIF\n",
      "LC82020342014224LGN00_B1.TIF reproyectada en 54.2590000629 segundos\n",
      "Reproyectando LC82020342014224LGN00_B10.TIF\n",
      "LC82020342014224LGN00_B10.TIF reproyectada en 57.5209999084 segundos\n",
      "Reproyectando LC82020342014224LGN00_B11.TIF\n",
      "LC82020342014224LGN00_B11.TIF reproyectada en 55.3500001431 segundos\n",
      "Reproyectando LC82020342014224LGN00_B2.TIF\n",
      "LC82020342014224LGN00_B2.TIF reproyectada en 57.8669998646 segundos\n",
      "Reproyectando LC82020342014224LGN00_B3.TIF\n",
      "LC82020342014224LGN00_B3.TIF reproyectada en 53.9029998779 segundos\n",
      "Reproyectando LC82020342014224LGN00_B4.TIF\n",
      "LC82020342014224LGN00_B4.TIF reproyectada en 52.9479999542 segundos\n",
      "Reproyectando LC82020342014224LGN00_B5.TIF\n",
      "LC82020342014224LGN00_B5.TIF reproyectada en 57.2849998474 segundos\n",
      "Reproyectando LC82020342014224LGN00_B6.TIF\n",
      "LC82020342014224LGN00_B6.TIF reproyectada en 58.9549999237 segundos\n",
      "Reproyectando LC82020342014224LGN00_B7.TIF\n",
      "LC82020342014224LGN00_B7.TIF reproyectada en 53.2929999828 segundos\n",
      "Reproyectando LC82020342014224LGN00_B8.TIF\n",
      "LC82020342014224LGN00_B8.TIF reproyectada en 59.1950001717 segundos\n",
      "Reproyectando LC82020342014224LGN00_B9.TIF\n",
      "LC82020342014224LGN00_B9.TIF reproyectada en 52.5680000782 segundos\n",
      "Reproyectando LC82020342014224LGN00_BQA.TIF\n",
      "LC82020342014224LGN00_BQA.TIF reproyectada en 55.7430000305 segundos\n",
      "Reproyectando LC82020342014224LGN00_MTLFmask\n",
      "Reproyeccion completa realizada en 12.1094500025 minutos\n",
      "Archivos doc y rel copiados a geo\n",
      "modificados los metadatos de  20140812l8oli202_34_g_b1.doc\n",
      "modificados los metadatos de  20140812l8oli202_34_g_b10.doc\n",
      "modificados los metadatos de  20140812l8oli202_34_g_b11.doc\n",
      "modificados los metadatos de  20140812l8oli202_34_g_b2.doc\n",
      "modificados los metadatos de  20140812l8oli202_34_g_b3.doc\n",
      "modificados los metadatos de  20140812l8oli202_34_g_b4.doc\n",
      "modificados los metadatos de  20140812l8oli202_34_g_b5.doc\n",
      "modificados los metadatos de  20140812l8oli202_34_g_b6.doc\n",
      "modificados los metadatos de  20140812l8oli202_34_g_b7.doc\n",
      "modificados los metadatos de  20140812l8oli202_34_g_b8.doc\n",
      "modificados los metadatos de  20140812l8oli202_34_g_b9.doc\n",
      "modificados los metadatos de  20140812l8oli202_34_g_BQA-Cirrus.doc\n",
      "modificados los metadatos de  20140812l8oli202_34_g_BQA-Cloud.doc\n",
      "modificados los metadatos de  20140812l8oli202_34_g_BQA-DFill.doc\n",
      "modificados los metadatos de  20140812l8oli202_34_g_BQA-SnowIce.doc\n",
      "modificados los metadatos de  20140812l8oli202_34_g_BQA-Terrain.doc\n",
      "modificados los metadatos de  20140812l8oli202_34_g_BQA-Water.doc\n",
      "Reproyeccion realizada en  726.861000061 segundos\n"
     ]
    }
   ],
   "source": [
    "myProtocolo.reproyeccion()"
   ]
  },
  {
   "cell_type": "markdown",
   "metadata": {},
   "source": [
    "#### En el siguiente realizamos la Corrección Radiométrica con Miramon. La salida en Float-32 la pasamos a byte para poder realizar la normalización en el útlimo paso"
   ]
  },
  {
   "cell_type": "code",
   "execution_count": 5,
   "metadata": {
    "collapsed": false
   },
   "outputs": [
    {
     "name": "stdout",
     "output_type": "stream",
     "text": [
      "Archivos copiados y renombrados a Rad\n",
      "['C:\\\\MiraMon\\\\CORRAD', '1', 'C:\\\\Users\\\\Diego\\\\Desktop\\\\Presentacion\\\\protocolo\\\\rad\\\\20140812l8oli202_34\\\\20140812l8oli202_34_g_b1.img', 'C:\\\\Users\\\\Diego\\\\Desktop\\\\Presentacion\\\\protocolo\\\\rad\\\\20140812l8oli202_34', 'C:\\\\Users\\\\Diego\\\\Desktop\\\\Presentacion\\\\protocolo\\\\rad\\\\sindato.img', 'C:\\\\Users\\\\Diego\\\\Desktop\\\\Presentacion\\\\protocolo\\\\rad\\\\kl.rad', '/MULTIBANDA /CONSERVAR_MDT /LIMIT_LAMBERT=73.000000 /REF_SUP_100 /REF_INF_0 /DT=c:\\\\MiraMon']\n",
      "Llamando a Miramon... Miramon!!!!!!\n",
      "Escena corregida con exito en 85.5249998569 segundos\n",
      "modificados los metadatos de  20140812l8oli202_34_gr_b1.hdr\n",
      "modificados los metadatos de  20140812l8oli202_34_gr_b2.hdr\n",
      "modificados los metadatos de  20140812l8oli202_34_gr_b3.hdr\n",
      "modificados los metadatos de  20140812l8oli202_34_gr_b4.hdr\n",
      "modificados los metadatos de  20140812l8oli202_34_gr_b5.hdr\n",
      "modificados los metadatos de  20140812l8oli202_34_gr_b6.hdr\n",
      "modificados los metadatos de  20140812l8oli202_34_gr_b7.hdr\n",
      "modificados los metadatos de  20140812l8oli202_34_gr_b9.hdr\n",
      "modificados los metadatos de  20140812l8oli202_34_gr_b1.hdr\n",
      "modificados los metadatos de  20140812l8oli202_34_gr_b2.hdr\n",
      "modificados los metadatos de  20140812l8oli202_34_gr_b3.hdr\n",
      "modificados los metadatos de  20140812l8oli202_34_gr_b4.hdr\n",
      "modificados los metadatos de  20140812l8oli202_34_gr_b5.hdr\n",
      "modificados los metadatos de  20140812l8oli202_34_gr_b6.hdr\n",
      "modificados los metadatos de  20140812l8oli202_34_gr_b7.hdr\n",
      "modificados los metadatos de  20140812l8oli202_34_gr_b9.hdr\n",
      "Input file size is 8734, 7734\n",
      "0...10...20...30...40...50...60...70...80...90...100 - done.\n",
      "\n",
      "Input file size is 8734, 7734\n",
      "0...10...20...30...40...50...60...70...80...90...100 - done.\n",
      "\n",
      "Input file size is 8734, 7734\n",
      "0...10...20...30...40...50...60...70...80...90...100 - done.\n",
      "\n",
      "Input file size is 8734, 7734\n",
      "0...10...20...30...40...50...60...70...80...90...100 - done.\n",
      "\n",
      "Input file size is 8734, 7734\n",
      "0...10...20...30...40...50...60...70...80...90...100 - done.\n",
      "\n",
      "Input file size is 8734, 7734\n",
      "0...10...20...30...40...50...60...70...80...90...100 - done.\n",
      "\n",
      "Input file size is 8734, 7734\n",
      "0...10...20...30...40...50...60...70...80...90...100 - done.\n",
      "\n",
      "Input file size is 8734, 7734\n",
      "0...10...20...30...40...50...60...70...80...90...100 - done.\n",
      "\n",
      "modificados los metadatos de  20140812l8oli202_34_gr_b1.doc\n",
      "modificados los metadatos de  20140812l8oli202_34_gr_b2.doc\n",
      "modificados los metadatos de  20140812l8oli202_34_gr_b3.doc\n",
      "modificados los metadatos de  20140812l8oli202_34_gr_b4.doc\n",
      "modificados los metadatos de  20140812l8oli202_34_gr_b5.doc\n",
      "modificados los metadatos de  20140812l8oli202_34_gr_b6.doc\n",
      "modificados los metadatos de  20140812l8oli202_34_gr_b7.doc\n",
      "modificados los metadatos de  20140812l8oli202_34_gr_b9.doc\n",
      "Correccion radiometrica realizada en  154.93599987 segundos\n"
     ]
    },
    {
     "name": "stderr",
     "output_type": "stream",
     "text": [
      "C:\\Anaconda\\lib\\site-packages\\rasterio\\__init__.py:103: FutureWarning: GDAL-style transforms are deprecated and will not be supported in Rasterio 1.0.\n",
      "  transform = guard_transform(transform)\n"
     ]
    }
   ],
   "source": [
    "myProtocolo.Corrad()"
   ]
  },
  {
   "cell_type": "markdown",
   "metadata": {},
   "source": [
    "#### Finalmenterealizamos la normalización. Al final de este paso la máscara de nubes se guardará también como máscara binaria de 0 y 1."
   ]
  },
  {
   "cell_type": "code",
   "execution_count": 3,
   "metadata": {
    "collapsed": false
   },
   "outputs": [
    {
     "name": "stdout",
     "output_type": "stream",
     "text": [
      "landsat 8\n",
      "\n",
      "C:\\Users\\Diego\\Desktop\\Presentacion\\protocolo\\rad\\20140812l8oli202_34\\20140812l8oli202_34_gr_b2.img  desde normalize\n",
      "comenzando nor1\n",
      "C:\\Users\\Diego\\Desktop\\Presentacion\\protocolo\\nor\\20140812l8oli202_34\\20140812l8oli202_34_CM.img\n",
      "mascara:  C:\\Users\\Diego\\Desktop\\Landsat_8\\MASK_1.img\n",
      "b2\n",
      "\n",
      "++++++++++++++++++++++++++++++++++\n",
      "slope: 1.89634391348 intercept: 10.4025564279 r 0.979764226155 N: 53152\n",
      "++++++++++++++++++++++++++++++++++\n",
      "\n",
      "{'Arena': 669, 'Embalses': 1581, 'Mineria': 87, 'Mar': 47721, 'Urbano-1': 476, 'Urbano-2': 735, 'Aeropuertos': 212, 'Pastizales': 82, 'Pinar': 1589} b2\n",
      "parametros en nor1:  {'b2': {'Parametros': {'slope': 1.8963439134807982, 'r': 0.97976422615490433, 'intercept': 10.402556427860034, 'N': 53152}, 'Tipo_Area': {'Arena': 669, 'Embalses': 1581, 'Mineria': 87, 'Mar': 47721, 'Urbano-1': 476, 'Urbano-2': 735, 'Aeropuertos': 212, 'Pastizales': 82, 'Pinar': 1589}}}\n",
      "\\comenzando nor2\n",
      "\n",
      "\n",
      "Normalizacion de  b2  realizada.\n",
      "\n",
      "C:\\Users\\Diego\\Desktop\\Presentacion\\protocolo\\rad\\20140812l8oli202_34\\20140812l8oli202_34_gr_b3.img  desde normalize\n",
      "comenzando nor1\n",
      "C:\\Users\\Diego\\Desktop\\Presentacion\\protocolo\\nor\\20140812l8oli202_34\\20140812l8oli202_34_CM.img\n",
      "mascara:  C:\\Users\\Diego\\Desktop\\Landsat_8\\MASK_1.img\n",
      "b3\n",
      "\n",
      "++++++++++++++++++++++++++++++++++\n",
      "slope: 1.46136158686 intercept: 6.27833906381 r 0.991282728808 N: 55566\n",
      "++++++++++++++++++++++++++++++++++\n",
      "\n",
      "{'Arena': 561, 'Embalses': 2067, 'Mineria': 133, 'Mar': 49499, 'Urbano-1': 533, 'Urbano-2': 790, 'Aeropuertos': 274, 'Pastizales': 112, 'Pinar': 1597} b3\n",
      "parametros en nor1:  {'b2': {'Parametros': {'slope': 1.8963439134807982, 'r': 0.97976422615490433, 'intercept': 10.402556427860034, 'N': 53152}, 'Tipo_Area': {'Arena': 669, 'Embalses': 1581, 'Mineria': 87, 'Mar': 47721, 'Urbano-1': 476, 'Urbano-2': 735, 'Aeropuertos': 212, 'Pastizales': 82, 'Pinar': 1589}}, 'b3': {'Parametros': {'slope': 1.4613615868618095, 'r': 0.99128272880754031, 'intercept': 6.2783390638125134, 'N': 55566}, 'Tipo_Area': {'Arena': 561, 'Embalses': 2067, 'Mineria': 133, 'Mar': 49499, 'Urbano-1': 533, 'Urbano-2': 790, 'Aeropuertos': 274, 'Pastizales': 112, 'Pinar': 1597}}}\n",
      "\\comenzando nor2\n",
      "\n",
      "\n",
      "Normalizacion de  b3  realizada.\n",
      "\n",
      "C:\\Users\\Diego\\Desktop\\Presentacion\\protocolo\\rad\\20140812l8oli202_34\\20140812l8oli202_34_gr_b4.img  desde normalize\n",
      "comenzando nor1\n",
      "C:\\Users\\Diego\\Desktop\\Presentacion\\protocolo\\nor\\20140812l8oli202_34\\20140812l8oli202_34_CM.img\n",
      "mascara:  C:\\Users\\Diego\\Desktop\\Landsat_8\\MASK_1.img\n",
      "b4\n",
      "\n",
      "++++++++++++++++++++++++++++++++++\n",
      "slope: 1.11997936099 intercept: 4.4191901599 r 0.99497313153 N: 55967\n",
      "++++++++++++++++++++++++++++++++++\n",
      "\n",
      "{'Arena': 708, 'Embalses': 2195, 'Mineria': 168, 'Mar': 49501, 'Urbano-1': 623, 'Urbano-2': 792, 'Aeropuertos': 373, 'Pastizales': 98, 'Pinar': 1509} b4\n",
      "parametros en nor1:  {'b4': {'Parametros': {'slope': 1.1199793609925364, 'r': 0.99497313153035571, 'intercept': 4.4191901598963739, 'N': 55967}, 'Tipo_Area': {'Arena': 708, 'Embalses': 2195, 'Mineria': 168, 'Mar': 49501, 'Urbano-1': 623, 'Urbano-2': 792, 'Aeropuertos': 373, 'Pastizales': 98, 'Pinar': 1509}}, 'b2': {'Parametros': {'slope': 1.8963439134807982, 'r': 0.97976422615490433, 'intercept': 10.402556427860034, 'N': 53152}, 'Tipo_Area': {'Arena': 669, 'Embalses': 1581, 'Mineria': 87, 'Mar': 47721, 'Urbano-1': 476, 'Urbano-2': 735, 'Aeropuertos': 212, 'Pastizales': 82, 'Pinar': 1589}}, 'b3': {'Parametros': {'slope': 1.4613615868618095, 'r': 0.99128272880754031, 'intercept': 6.2783390638125134, 'N': 55566}, 'Tipo_Area': {'Arena': 561, 'Embalses': 2067, 'Mineria': 133, 'Mar': 49499, 'Urbano-1': 533, 'Urbano-2': 790, 'Aeropuertos': 274, 'Pastizales': 112, 'Pinar': 1597}}}\n",
      "\\comenzando nor2\n",
      "\n",
      "\n",
      "Normalizacion de  b4  realizada.\n",
      "\n",
      "C:\\Users\\Diego\\Desktop\\Presentacion\\protocolo\\rad\\20140812l8oli202_34\\20140812l8oli202_34_gr_b5.img  desde normalize\n",
      "comenzando nor1\n",
      "C:\\Users\\Diego\\Desktop\\Presentacion\\protocolo\\nor\\20140812l8oli202_34\\20140812l8oli202_34_CM.img\n",
      "mascara:  C:\\Users\\Diego\\Desktop\\Landsat_8\\MASK_1.img\n",
      "b5\n",
      "\n",
      "++++++++++++++++++++++++++++++++++\n",
      "slope: 1.47763560603 intercept: 3.49457501872 r 0.994722621261 N: 54086\n",
      "++++++++++++++++++++++++++++++++++\n",
      "\n",
      "{'Arena': 206, 'Embalses': 1495, 'Mineria': 174, 'Mar': 49500, 'Urbano-1': 421, 'Urbano-2': 649, 'Aeropuertos': 303, 'Pastizales': 123, 'Pinar': 1215} b5\n",
      "parametros en nor1:  {'b4': {'Parametros': {'slope': 1.1199793609925364, 'r': 0.99497313153035571, 'intercept': 4.4191901598963739, 'N': 55967}, 'Tipo_Area': {'Arena': 708, 'Embalses': 2195, 'Mineria': 168, 'Mar': 49501, 'Urbano-1': 623, 'Urbano-2': 792, 'Aeropuertos': 373, 'Pastizales': 98, 'Pinar': 1509}}, 'b5': {'Parametros': {'slope': 1.477635606028513, 'r': 0.99472262126092159, 'intercept': 3.4945750187244009, 'N': 54086}, 'Tipo_Area': {'Arena': 206, 'Embalses': 1495, 'Mineria': 174, 'Mar': 49500, 'Urbano-1': 421, 'Urbano-2': 649, 'Aeropuertos': 303, 'Pastizales': 123, 'Pinar': 1215}}, 'b2': {'Parametros': {'slope': 1.8963439134807982, 'r': 0.97976422615490433, 'intercept': 10.402556427860034, 'N': 53152}, 'Tipo_Area': {'Arena': 669, 'Embalses': 1581, 'Mineria': 87, 'Mar': 47721, 'Urbano-1': 476, 'Urbano-2': 735, 'Aeropuertos': 212, 'Pastizales': 82, 'Pinar': 1589}}, 'b3': {'Parametros': {'slope': 1.4613615868618095, 'r': 0.99128272880754031, 'intercept': 6.2783390638125134, 'N': 55566}, 'Tipo_Area': {'Arena': 561, 'Embalses': 2067, 'Mineria': 133, 'Mar': 49499, 'Urbano-1': 533, 'Urbano-2': 790, 'Aeropuertos': 274, 'Pastizales': 112, 'Pinar': 1597}}}\n",
      "\\comenzando nor2\n",
      "\n",
      "\n",
      "Normalizacion de  b5  realizada.\n",
      "\n",
      "C:\\Users\\Diego\\Desktop\\Presentacion\\protocolo\\rad\\20140812l8oli202_34\\20140812l8oli202_34_gr_b6.img  desde normalize\n",
      "comenzando nor1\n",
      "C:\\Users\\Diego\\Desktop\\Presentacion\\protocolo\\nor\\20140812l8oli202_34\\20140812l8oli202_34_CM.img\n",
      "mascara:  C:\\Users\\Diego\\Desktop\\Landsat_8\\MASK_1.img\n",
      "b6\n",
      "\n",
      "++++++++++++++++++++++++++++++++++\n",
      "slope: 1.36321146465 intercept: 3.78924829808 r 0.997206358508 N: 55290\n",
      "++++++++++++++++++++++++++++++++++\n",
      "\n",
      "{'Arena': 709, 'Embalses': 1937, 'Mineria': 189, 'Mar': 49501, 'Urbano-1': 585, 'Urbano-2': 718, 'Aeropuertos': 344, 'Pastizales': 115, 'Pinar': 1192} b6\n",
      "parametros en nor1:  {'b4': {'Parametros': {'slope': 1.1199793609925364, 'r': 0.99497313153035571, 'intercept': 4.4191901598963739, 'N': 55967}, 'Tipo_Area': {'Arena': 708, 'Embalses': 2195, 'Mineria': 168, 'Mar': 49501, 'Urbano-1': 623, 'Urbano-2': 792, 'Aeropuertos': 373, 'Pastizales': 98, 'Pinar': 1509}}, 'b5': {'Parametros': {'slope': 1.477635606028513, 'r': 0.99472262126092159, 'intercept': 3.4945750187244009, 'N': 54086}, 'Tipo_Area': {'Arena': 206, 'Embalses': 1495, 'Mineria': 174, 'Mar': 49500, 'Urbano-1': 421, 'Urbano-2': 649, 'Aeropuertos': 303, 'Pastizales': 123, 'Pinar': 1215}}, 'b6': {'Parametros': {'slope': 1.3632114646515319, 'r': 0.99720635850842398, 'intercept': 3.789248298080949, 'N': 55290}, 'Tipo_Area': {'Arena': 709, 'Embalses': 1937, 'Mineria': 189, 'Mar': 49501, 'Urbano-1': 585, 'Urbano-2': 718, 'Aeropuertos': 344, 'Pastizales': 115, 'Pinar': 1192}}, 'b2': {'Parametros': {'slope': 1.8963439134807982, 'r': 0.97976422615490433, 'intercept': 10.402556427860034, 'N': 53152}, 'Tipo_Area': {'Arena': 669, 'Embalses': 1581, 'Mineria': 87, 'Mar': 47721, 'Urbano-1': 476, 'Urbano-2': 735, 'Aeropuertos': 212, 'Pastizales': 82, 'Pinar': 1589}}, 'b3': {'Parametros': {'slope': 1.4613615868618095, 'r': 0.99128272880754031, 'intercept': 6.2783390638125134, 'N': 55566}, 'Tipo_Area': {'Arena': 561, 'Embalses': 2067, 'Mineria': 133, 'Mar': 49499, 'Urbano-1': 533, 'Urbano-2': 790, 'Aeropuertos': 274, 'Pastizales': 112, 'Pinar': 1597}}}\n",
      "\\comenzando nor2\n",
      "\n",
      "\n",
      "Normalizacion de  b6  realizada.\n",
      "\n",
      "C:\\Users\\Diego\\Desktop\\Presentacion\\protocolo\\rad\\20140812l8oli202_34\\20140812l8oli202_34_gr_b7.img  desde normalize\n",
      "comenzando nor1\n",
      "C:\\Users\\Diego\\Desktop\\Presentacion\\protocolo\\nor\\20140812l8oli202_34\\20140812l8oli202_34_CM.img\n",
      "mascara:  C:\\Users\\Diego\\Desktop\\Landsat_8\\MASK_1.img\n",
      "b7\n",
      "\n",
      "++++++++++++++++++++++++++++++++++\n",
      "slope: 1.54932721136 intercept: 4.90814688484 r 0.996134751735 N: 55800\n",
      "++++++++++++++++++++++++++++++++++\n",
      "\n",
      "{'Arena': 676, 'Embalses': 2255, 'Mineria': 195, 'Mar': 49501, 'Urbano-1': 548, 'Urbano-2': 694, 'Aeropuertos': 412, 'Pastizales': 102, 'Pinar': 1417} b7\n",
      "parametros en nor1:  {'b4': {'Parametros': {'slope': 1.1199793609925364, 'r': 0.99497313153035571, 'intercept': 4.4191901598963739, 'N': 55967}, 'Tipo_Area': {'Arena': 708, 'Embalses': 2195, 'Mineria': 168, 'Mar': 49501, 'Urbano-1': 623, 'Urbano-2': 792, 'Aeropuertos': 373, 'Pastizales': 98, 'Pinar': 1509}}, 'b5': {'Parametros': {'slope': 1.477635606028513, 'r': 0.99472262126092159, 'intercept': 3.4945750187244009, 'N': 54086}, 'Tipo_Area': {'Arena': 206, 'Embalses': 1495, 'Mineria': 174, 'Mar': 49500, 'Urbano-1': 421, 'Urbano-2': 649, 'Aeropuertos': 303, 'Pastizales': 123, 'Pinar': 1215}}, 'b6': {'Parametros': {'slope': 1.3632114646515319, 'r': 0.99720635850842398, 'intercept': 3.789248298080949, 'N': 55290}, 'Tipo_Area': {'Arena': 709, 'Embalses': 1937, 'Mineria': 189, 'Mar': 49501, 'Urbano-1': 585, 'Urbano-2': 718, 'Aeropuertos': 344, 'Pastizales': 115, 'Pinar': 1192}}, 'b7': {'Parametros': {'slope': 1.5493272113557932, 'r': 0.99613475173512978, 'intercept': 4.9081468848376169, 'N': 55800}, 'Tipo_Area': {'Arena': 676, 'Embalses': 2255, 'Mineria': 195, 'Mar': 49501, 'Urbano-1': 548, 'Urbano-2': 694, 'Aeropuertos': 412, 'Pastizales': 102, 'Pinar': 1417}}, 'b2': {'Parametros': {'slope': 1.8963439134807982, 'r': 0.97976422615490433, 'intercept': 10.402556427860034, 'N': 53152}, 'Tipo_Area': {'Arena': 669, 'Embalses': 1581, 'Mineria': 87, 'Mar': 47721, 'Urbano-1': 476, 'Urbano-2': 735, 'Aeropuertos': 212, 'Pastizales': 82, 'Pinar': 1589}}, 'b3': {'Parametros': {'slope': 1.4613615868618095, 'r': 0.99128272880754031, 'intercept': 6.2783390638125134, 'N': 55566}, 'Tipo_Area': {'Arena': 561, 'Embalses': 2067, 'Mineria': 133, 'Mar': 49499, 'Urbano-1': 533, 'Urbano-2': 790, 'Aeropuertos': 274, 'Pastizales': 112, 'Pinar': 1597}}}\n",
      "\\comenzando nor2\n",
      "\n",
      "\n",
      "Normalizacion de  b7  realizada.\n",
      "\n",
      "Archivos doc y rel copiados a nor\n",
      "Normalizacion realizada en  33.4099998474 segundos\n"
     ]
    },
    {
     "name": "stderr",
     "output_type": "stream",
     "text": [
      "C:\\Anaconda\\lib\\site-packages\\rasterio\\__init__.py:103: FutureWarning: GDAL-style transforms are deprecated and will not be supported in Rasterio 1.0.\n",
      "  transform = guard_transform(transform)\n"
     ]
    }
   ],
   "source": [
    "myProtocolo.normalizacion()"
   ]
  },
  {
   "cell_type": "code",
   "execution_count": null,
   "metadata": {
    "collapsed": true
   },
   "outputs": [],
   "source": []
  }
 ],
 "metadata": {
  "kernelspec": {
   "display_name": "Python 2",
   "language": "python",
   "name": "python2"
  },
  "language_info": {
   "codemirror_mode": {
    "name": "ipython",
    "version": 2
   },
   "file_extension": ".py",
   "mimetype": "text/x-python",
   "name": "python",
   "nbconvert_exporter": "python",
   "pygments_lexer": "ipython2",
   "version": "2.7.9"
  }
 },
 "nbformat": 4,
 "nbformat_minor": 0
}
